{
 "metadata": {
  "language_info": {
   "codemirror_mode": {
    "name": "ipython",
    "version": 3
   },
   "file_extension": ".py",
   "mimetype": "text/x-python",
   "name": "python",
   "nbconvert_exporter": "python",
   "pygments_lexer": "ipython3",
   "version": "3.8.7-final"
  },
  "orig_nbformat": 2,
  "kernelspec": {
   "name": "python3",
   "display_name": "Python 3.8.7 64-bit",
   "metadata": {
    "interpreter": {
     "hash": "804abfa406959c96fb5ec1e22be8f44e8757a227d60d236f10ad785de9d9ce52"
    }
   }
  }
 },
 "nbformat": 4,
 "nbformat_minor": 2,
 "cells": [
  {
   "source": [
    "# Multiply (Intro)\n",
    "# https://py.checkio.org/en/mission/multiply-intro/"
   ],
   "cell_type": "markdown",
   "metadata": {}
  },
  {
   "cell_type": "code",
   "execution_count": 1,
   "metadata": {},
   "outputs": [
    {
     "output_type": "execute_result",
     "data": {
      "text/plain": [
       "10"
      ]
     },
     "metadata": {},
     "execution_count": 1
    }
   ],
   "source": [
    "def multiply (num1, num2):\n",
    "    return num1 * num2\n",
    "multiply (2,5)"
   ]
  },
  {
   "source": [
    "# Easy Unpack\n",
    "# https://py.checkio.org/en/mission/easy-unpack/"
   ],
   "cell_type": "markdown",
   "metadata": {}
  },
  {
   "cell_type": "code",
   "execution_count": 5,
   "metadata": {},
   "outputs": [
    {
     "output_type": "execute_result",
     "data": {
      "text/plain": [
       "(1, 3, 7)"
      ]
     },
     "metadata": {},
     "execution_count": 5
    }
   ],
   "source": [
    "def easy_unpack (t):\n",
    "    return (t[0],t[2],t[-2])\n",
    "easy_unpack ((1, 2, 3, 4, 5, 6, 7, 9))"
   ]
  },
  {
   "source": [
    "# First Word (simplified)\n",
    "# https://py.checkio.org/en/mission/first-word-simplified/"
   ],
   "cell_type": "markdown",
   "metadata": {}
  },
  {
   "cell_type": "code",
   "execution_count": 11,
   "metadata": {},
   "outputs": [
    {
     "output_type": "execute_result",
     "data": {
      "text/plain": [
       "'Hello'"
      ]
     },
     "metadata": {},
     "execution_count": 11
    }
   ],
   "source": [
    "def first_word (s):\n",
    "    return s.split(' ')[0]\n",
    "first_word(\"Hello world\")"
   ]
  },
  {
   "source": [
    "# Acceptable Password I\n",
    "# https://py.checkio.org/en/mission/acceptable-password-i/"
   ],
   "cell_type": "markdown",
   "metadata": {}
  },
  {
   "cell_type": "code",
   "execution_count": 19,
   "metadata": {},
   "outputs": [
    {
     "output_type": "execute_result",
     "data": {
      "text/plain": [
       "True"
      ]
     },
     "metadata": {},
     "execution_count": 19
    }
   ],
   "source": [
    "def is_acceptable_password (pw):\n",
    "    if len(pw) > 6:\n",
    "        return True\n",
    "    else:\n",
    "        return False\n",
    "#is_acceptable_password('short') \n",
    "is_acceptable_password('muchlonger') "
   ]
  },
  {
   "source": [
    "# Number Length\n",
    "# https://py.checkio.org/en/mission/number-length/"
   ],
   "cell_type": "markdown",
   "metadata": {}
  },
  {
   "cell_type": "code",
   "execution_count": 27,
   "metadata": {},
   "outputs": [
    {
     "output_type": "execute_result",
     "data": {
      "text/plain": [
       "1"
      ]
     },
     "metadata": {},
     "execution_count": 27
    }
   ],
   "source": [
    "def number_length (int):\n",
    "    return len(str(int))\n",
    "#number_length(10) \n",
    "number_length(0)"
   ]
  },
  {
   "source": [
    "# End Zeros\n",
    "# https://py.checkio.org/en/mission/end-zeros/"
   ],
   "cell_type": "markdown",
   "metadata": {}
  },
  {
   "cell_type": "code",
   "execution_count": 52,
   "metadata": {},
   "outputs": [],
   "source": [
    "def end_zeros (int):\n",
    "    count = 0\n",
    "    i = -1\n",
    "    s = str(int)\n",
    "    while abs(i) <= len(s):\n",
    "        if s[i] == '0':\n",
    "            count += 1\n",
    "            i -= 1\n",
    "        else:\n",
    "            break\n",
    "    return count"
   ]
  },
  {
   "cell_type": "code",
   "execution_count": 53,
   "metadata": {},
   "outputs": [
    {
     "output_type": "execute_result",
     "data": {
      "text/plain": [
       "2"
      ]
     },
     "metadata": {},
     "execution_count": 53
    }
   ],
   "source": [
    "end_zeros(100100) "
   ]
  },
  {
   "source": [
    "# Backward String\n",
    "# https://py.checkio.org/en/mission/backward-string/"
   ],
   "cell_type": "markdown",
   "metadata": {}
  },
  {
   "cell_type": "code",
   "execution_count": 54,
   "metadata": {},
   "outputs": [],
   "source": [
    "def backward_string (s):\n",
    "    i = -1\n",
    "    new_string = ''\n",
    "    while abs(i) <= len(s):\n",
    "        new_string += s[i]\n",
    "        i -= 1\n",
    "    return new_string"
   ]
  },
  {
   "cell_type": "code",
   "execution_count": 58,
   "metadata": {},
   "outputs": [
    {
     "output_type": "execute_result",
     "data": {
      "text/plain": [
       "True"
      ]
     },
     "metadata": {},
     "execution_count": 58
    }
   ],
   "source": [
    "#backward_string('val') == 'lav'\n",
    "#backward_string('') == ''\n",
    "#backward_string('ohho') == 'ohho'\n",
    "backward_string('123456789') == '987654321'"
   ]
  },
  {
   "source": [
    "# All Upper I\n",
    "# https://py.checkio.org/en/mission/all-upper/"
   ],
   "cell_type": "markdown",
   "metadata": {}
  },
  {
   "cell_type": "code",
   "execution_count": 67,
   "metadata": {},
   "outputs": [],
   "source": [
    "import re\n",
    "def is_all_upper (s):\n",
    "    if s.upper() == s:\n",
    "        return True\n",
    "    elif s == '':\n",
    "        return True\n",
    "    elif re.findall('[a-z]',s) == []:\n",
    "        return True\n",
    "    else:\n",
    "        return False"
   ]
  },
  {
   "cell_type": "code",
   "execution_count": 71,
   "metadata": {},
   "outputs": [
    {
     "output_type": "execute_result",
     "data": {
      "text/plain": [
       "True"
      ]
     },
     "metadata": {},
     "execution_count": 71
    }
   ],
   "source": [
    "#is_all_upper('ALL UPPER') == True\n",
    "#is_all_upper('all lower') == False\n",
    "#is_all_upper('mixed UPPER and lower') == False\n",
    "is_all_upper('') == True"
   ]
  },
  {
   "cell_type": "code",
   "execution_count": 66,
   "metadata": {},
   "outputs": [
    {
     "output_type": "execute_result",
     "data": {
      "text/plain": [
       "True"
      ]
     },
     "metadata": {},
     "execution_count": 66
    }
   ],
   "source": [
    "import re\n",
    "re.findall('[a-z]',s) == []"
   ]
  },
  {
   "cell_type": "code",
   "execution_count": null,
   "metadata": {},
   "outputs": [],
   "source": []
  }
 ]
}